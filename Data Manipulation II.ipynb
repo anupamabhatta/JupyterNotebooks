{
 "cells": [
  {
   "cell_type": "markdown",
   "metadata": {
    "tags": []
   },
   "source": [
    "# SI 618 - Homework #2: More Data Manipulation"
   ]
  },
  {
   "cell_type": "markdown",
   "metadata": {},
   "source": [
    "### The total score for this assignment will be 100 points, consisting of:\n",
    "- 10 pt: Overall quality of spelling, grammar, punctuation, etc. of written sentences. ([Guide](https://drive.google.com/file/d/1L0P7xJwjUGBvyb49mL3dw1Bt7hzRTiTl/view ))\n",
    "- 10 pt: Codes are written in [PEP 8](https://www.python.org/dev/peps/pep-0008/) style.\n",
    "- 80 pt: Homework questions. \n",
    "\n",
    "Version 2024.01.23.2.CT"
   ]
  },
  {
   "cell_type": "markdown",
   "metadata": {},
   "source": [
    "# Background\n",
    "You're a Data Science Consultant for an eCommerce retail company, they've asked you to analyze their sales database. Unfortunately, they did nothing to prepare or clean their data, only exporting their 3 database tables as JSON files. It's up to you to clean their data, analyze it and answer questions to help drive business value!\n",
    "\n",
    "### The below files have been provided via the URLs shown:\n",
    "- invoices.json https://github.com/umsi-data-science/data/raw/main/invoices.json\n",
    "- items.json https://github.com/umsi-data-science/data/raw/main/items.json\n",
    "- purchases.json https://github.com/umsi-data-science/data/raw/main/purchases.json\n",
    "\n",
    "### They provided this data dictionary:\n",
    "\n",
    "**InvoiceNo:** Invoice number. Nominal, a 6-digit integral number uniquely assigned to each transaction.  \n",
    "**StockCode:** Product (item) code. Nominal, a 5-digit integral number uniquely assigned to each distinct product.  \n",
    "**Description:** Product (item) name. Nominal.   \n",
    "**Quantity:** The quantities of each product (item) per transaction. Numeric.  \n",
    "**InvoiceDate:** Invoice Date and time. Numeric, the day and time when each transaction was generated.  \n",
    "**UnitPrice:** Unit price. Numeric, Product price per unit in sterling.  \n",
    "**CustomerID:** Customer number. Nominal, a 5-digit integral number uniquely assigned to each customer.  \n",
    "**Country:** Country name. Nominal, the name of the country where each customer resides.  \n",
    "\n",
    "### A few notes from the company:\n",
    "* If the InvoiceNo starts with the letter 'c', it indicates a cancellation. When conducting this analysis we only want to analyze invoices that were shipped. (ie. not canceled)\n",
    "* The datasets should be able to be merged, each row in the invoice table corresponds to multiple rows in the purchases table.\n",
    "* To find out the description or unit cost of an item in the purchase table, the StockCode should be used to match up the product in the items table. \n",
    "* They mentioned that they've been having a difficult time lately joining the items and purchases table, maybe there's something wrong with the columns?"
   ]
  },
  {
   "cell_type": "markdown",
   "metadata": {},
   "source": [
    "# Answer the questions below.\n",
    "- write your Python code that can answer the following questions \n",
    "- explain **ALL** your answers in plain English. \n",
    "- you can use as many code and markdown cells as you need for each question (i.e. don't limit yourself to just one of each if you feel you need more)."
   ]
  },
  {
   "cell_type": "code",
   "execution_count": 335,
   "metadata": {},
   "outputs": [],
   "source": [
    "import pandas as pd\n",
    "import matplotlib.pyplot as plt\n",
    "MY_UNIQNAME = 'axbhatta'  # replace this with your uniqname"
   ]
  },
  {
   "cell_type": "markdown",
   "metadata": {},
   "source": [
    "### <span style=\"color:magenta\"> Q1. [5 points] Describe the dataset. </span>\n",
    "1. Load the data. \n",
    "1. How many total invoices have been placed?\n",
    "1. How many unique customers are there?\n",
    "1. What is the total number of unique items?\n",
    "1. Are there any columns with null values?\n",
    "1. Thinking ahead, how do you think you would join the different tables? Please share 2-3 sentences about your approach."
   ]
  },
  {
   "cell_type": "code",
   "execution_count": 336,
   "metadata": {},
   "outputs": [
    {
     "name": "stdout",
     "output_type": "stream",
     "text": [
      "1. Total number of invoices: 22064\n",
      "2. Total number of unique customers: 4339\n",
      "3. Total number of unique items: 4070\n",
      "4. Columns with null values across all three datasets: Index(['CustomerID', 'Description'], dtype='object')\n",
      "5. I would join the different tables in the three datasets using the common columns in the tables.\n",
      "For example, I would join the 'invoices' and 'purchases' tables using the InvoiceNo column and the 'items' and 'purchases' tables using the 'StockCode' and 'StockCodeSC' columns, respectively.\n",
      "In that regard, I would also remove the non-numeric characters from the StockCodeSC column in the 'purchases' table to match the 'StockCode' column in the 'items' table.\n"
     ]
    }
   ],
   "source": [
    "\n",
    "# 1. Load the data\n",
    "invoices_url = \"https://github.com/umsi-data-science/data/raw/main/invoices.json\"\n",
    "items_url = \"https://github.com/umsi-data-science/data/raw/main/items.json\"\n",
    "purchases_url = \"https://github.com/umsi-data-science/data/raw/main/purchases.json\"\n",
    "\n",
    "invoices = pd.read_json(invoices_url)\n",
    "items = pd.read_json(items_url)\n",
    "purchases = pd.read_json(purchases_url)\n",
    "\n",
    "# Filter out the cancelled invoices for both invoices and purchases datasets\n",
    "invoices = invoices[~invoices['InvoiceNo'].str.startswith('C')]\n",
    "purchases = purchases[~purchases['InvoiceNo'].str.startswith('C')]\n",
    "\n",
    "# Convert the data to data frames\n",
    "df_invoices = pd.DataFrame(invoices)\n",
    "df_items = pd.DataFrame(items)\n",
    "df_purchases = pd.DataFrame(purchases)\n",
    "\n",
    "# 2. How many total invoices have been placed?\n",
    "total_invoices = df_invoices['InvoiceNo'].nunique()\n",
    "print(f\"1. Total number of invoices: {total_invoices}\")\n",
    "\n",
    "# 3. How many unique customers are there?\n",
    "unique_customers = df_invoices['CustomerID'].nunique()\n",
    "print(f\"2. Total number of unique customers: {unique_customers}\")\n",
    "\n",
    "# 4. What is the total number of unique items?\n",
    "unique_items = df_items['StockCode'].nunique()\n",
    "print(f\"3. Total number of unique items: {unique_items}\")\n",
    "\n",
    "# 5. Are there any columns with null values?\n",
    "null_columns_invoices = df_invoices.columns[df_invoices.isnull().any()]\n",
    "null_columns_items = df_items.columns[df_items.isnull().any()]\n",
    "null_columns_purchases = df_purchases.columns[df_purchases.isnull().any()]\n",
    "null_columns = null_columns_invoices.append(\n",
    "    null_columns_items).append(null_columns_purchases)\n",
    "print(f\"4. Columns with null values across all three datasets: {null_columns}\")\n",
    "\n",
    "# 6. How do you think you would join the different tables?\n",
    "print(\"5. I would join the different tables in the three datasets using the common columns in the tables.\\nFor example, I would join the 'invoices' and 'purchases' tables using the InvoiceNo column and the 'items' and 'purchases' tables using the 'StockCode' and 'StockCodeSC' columns, respectively.\\nIn that regard, I would also remove the non-numeric characters from the StockCodeSC column in the 'purchases' table to match the 'StockCode' column in the 'items' table.\")"
   ]
  },
  {
   "cell_type": "markdown",
   "metadata": {},
   "source": [
    "1. Total number of invoices: 22064\n",
    "2. Total number of unique customers: 4339\n",
    "3. Total number of unique items: 4070\n",
    "4. Columns with null values: Index(['CustomerID', 'Description'])\n",
    "5. I would join the different tables using the common columns in the tables.\n",
    "For example, I would join the 'invoices' and 'purchases' tables using the InvoiceNo column and the 'items' and 'purchases' tables using the common 'StockCode' and 'StockCodeSC' columns, respectively.\n",
    "In that regard, I would also remove the non-numeric characters from the StockCodeSC column in the 'purchases' table to match the 'StockCode' column in the 'items' table."
   ]
  },
  {
   "cell_type": "markdown",
   "metadata": {},
   "source": [
    "### <span style=\"color:magenta\"> Q2. [10 points] Invoice Analysis </span>\n",
    "1. For each customer calculate how many total invoices they have placed. List the top 10 customers who have placed an invoice in descending order.\n",
    "2. Perform a similar calculation but instead of the number of invoices, calculate the total quantity of items ordered for each customer. List the top 10 customers in descending order.\n",
    "3. Compare the top 10 customers, does it appear that the more invoices a customer have, the greater the total quantity of items? Explain your reasoning.\n",
    "\n",
    "_Hint: For 2.2, you may need to join two datasets together to answer the question._"
   ]
  },
  {
   "cell_type": "code",
   "execution_count": 337,
   "metadata": {},
   "outputs": [
    {
     "name": "stdout",
     "output_type": "stream",
     "text": [
      "\n",
      "Top 10 customers by total invoices:\n",
      " CustomerID\n",
      "12748.0    211\n",
      "14911.0    202\n",
      "17841.0    124\n",
      "13089.0     97\n",
      "14606.0     95\n",
      "15311.0     91\n",
      "12971.0     86\n",
      "14646.0     74\n",
      "16029.0     63\n",
      "13408.0     62\n",
      "dtype: int64\n",
      "\n",
      "Top 10 customers by total quantity ordered:\n",
      "    CustomerID  TotalQuantity\n",
      "0     14646.0         197491\n",
      "1     14911.0          81009\n",
      "2     16446.0          80997\n",
      "3     12415.0          77670\n",
      "4     12346.0          74215\n",
      "5     17450.0          69993\n",
      "6     17511.0          67423\n",
      "7     18102.0          64124\n",
      "8     13694.0          63312\n",
      "9     14298.0          58343\n",
      "\n",
      "\n",
      "While there may exist some correlation between the number of invoices and the total quantity ordered, it does not seem to be a straightforward linear relationship.\n",
      "For example, Customer 14646, with the highest total quantity ordered, does not have the highest number of invoices. Similarly, although Customer 12748 has the highest number of invoices, they are not the top customer in terms of total quantity.\n",
      "Therefore, there isn't a clear linear relationship between the number of invoices and the total quantity ordered.\n"
     ]
    }
   ],
   "source": [
    "# 1. For each customer calculate how many total invoices they have placed. List the top 10 customers who have placed an invoice in descending order.\n",
    "top_10_customers_invoices = df_invoices.groupby(\n",
    "    'CustomerID').size().sort_values(ascending=False).head(\n",
    "    10)  # Group the invoices by customer ID and calculate the number of invoices per customer, then select the top 10 customers\n",
    "print(\"\\nTop 10 customers by total invoices:\\n\", top_10_customers_invoices)\n",
    "\n",
    "# 2. Perform a similar calculation but instead of the number of invoices, calculate the total quantity of items ordered for each customer. List the top 10 customers in descending order.\n",
    "quantity_per_customer = df_purchases.groupby(\n",
    "    'InvoiceNo')['Quantity'].sum().reset_index(name='TotalQuantity')  # Calculate the total quantity of items ordered per invoice\n",
    "top_10_customers_quantity = quantity_per_customer.merge(invoices[['InvoiceNo', 'CustomerID']], on='InvoiceNo').groupby(\n",
    "    'CustomerID')['TotalQuantity'].sum().reset_index(name='TotalQuantity')  # Merge the total quantity per invoice with the customer ID and calculate the total quantity per customer\n",
    "top_10_customers_quantity = top_10_customers_quantity.sort_values(\n",
    "    by='TotalQuantity', ascending=False).head(10).reset_index(drop=True)  # Sort the customers by the total quantity ordered and select the top 10\n",
    "print(\"\\nTop 10 customers by total quantity ordered:\\n\", top_10_customers_quantity)\n",
    "\n",
    "# 3. Compare the top 10 customers, does it appear that the more invoices a customer have, the greater the total quantity of items? Explain your reasoning.\n",
    "print(\"\\n\\nWhile there may exist some correlation between the number of invoices and the total quantity ordered, it does not seem to be a straightforward linear relationship.\\nFor example, Customer 14646, with the highest total quantity ordered, does not have the highest number of invoices. Similarly, although Customer 12748 has the highest number of invoices, they are not the top customer in terms of total quantity.\\nTherefore, there isn't a clear linear relationship between the number of invoices and the total quantity ordered.\")"
   ]
  },
  {
   "cell_type": "markdown",
   "metadata": {},
   "source": [
    "1. Table listed above:\n",
    "Top 10 customers by total invoices:\n",
    "\n",
    "|      | CustomerID | Total Invoices|\n",
    "|------|------------|---------------|\n",
    "| 0 | 12748.0    | 211           |\n",
    "| 1  | 14911.0    | 202           |\n",
    "| 2 | 17841.0    | 124           |\n",
    "| 3 | 13089.0    | 97           |\n",
    "| 4  | 14606.0     | 95           |\n",
    "| 5 | 15311.0    | 91           |\n",
    "| 6  | 12971.0    | 86            |\n",
    "| 7 | 14646.0    | 74            |\n",
    "| 8  | 16029.0    | 63           |\n",
    "| 9 | 13408.0    | 62           |\n",
    "\n",
    "2. Table listed above:\n",
    "Top 10 customers by total quantity ordered:\n",
    "\n",
    "|     | CustomerID | Total Quantity |\n",
    "|-----|-------|----------------|\n",
    "| 0 | 14646.0    | 197491         |\n",
    "| 1 | 14911.0    | 81009          |\n",
    "| 2 | 16446.0    | 80997          |\n",
    "| 3 | 12415.0    | 77670          |\n",
    "| 4 | 12346.0    | 74215          |\n",
    "| 5 | 17450.0    | 69993          |\n",
    "| 6 | 17511.0    | 67423          |\n",
    "| 7 | 18102.0    | 64124          |\n",
    "| 8 | 13694.0    | 63312          |\n",
    "| 9 | 14298.0    | 58343          |\n",
    "\n",
    "3. While there may exist some correlation between the number of invoices and the total quantity ordered, it does not seem to be a straightforward linear relationship.\n",
    "For example, Customer 14646, with the highest total quantity ordered, does not have the highest number of invoices. Similarly, although Customer 12748 has the highest number of invoices, they are not the top customer in terms of total quantity.\n",
    "Therefore, there isn't a clear linear relationship between the number of invoices and the total quantity ordered."
   ]
  },
  {
   "cell_type": "markdown",
   "metadata": {},
   "source": [
    "### <span style=\"color:magenta\"> Q3. [10 points] Item Analysis </span>\n",
    "1. What is the average item-unit price? \n",
    "1. What % of items are under $25?\n",
    "1. Generate a histogram of the unit prices. Select reasonable min/max values for the x-axis. Why did you pick those values? What do you notice about the histogram? "
   ]
  },
  {
   "cell_type": "code",
   "execution_count": 338,
   "metadata": {},
   "outputs": [
    {
     "name": "stdout",
     "output_type": "stream",
     "text": [
      "\n",
      "Average item-unit price: 6.91\n",
      "Percentage of items under $25: 98.75%\n"
     ]
    },
    {
     "data": {
      "image/png": "[encoded data removed]",
      "text/plain": [
       "<Figure size 640x480 with 1 Axes>"
      ]
     },
     "metadata": {},
     "output_type": "display_data"
    },
    {
     "name": "stdout",
     "output_type": "stream",
     "text": [
      "I picked the range (0, 50) for the x-axis because it captures the majority of the unit prices. \n",
      "The histogram shows that the majority of the unit prices are between 0 and 20, with a few unit prices between 20 and 50. \n",
      "The histogram is right-skewed, with the majority of the unit prices being on the lower end.\n"
     ]
    }
   ],
   "source": [
    "# What is the average item-unit price?\n",
    "# calculate the average item-unit price\n",
    "average_item_unit_price = df_items['UnitPrice'].mean()\n",
    "print(f\"\\nAverage item-unit price: {average_item_unit_price:.2f}\")\n",
    "\n",
    "# What % of items are under $25?\n",
    "# calculate the percentage of items under $25\n",
    "items_under_25 = (df_items['UnitPrice'] < 25).mean() * 100\n",
    "print(f\"Percentage of items under $25: {items_under_25:.2f}%\")\n",
    "\n",
    "# Generate a histogram of the unit prices. Select reasonable min/max values for the x-axis. Why did you pick those values? What do you notice about the histogram?\n",
    "plt.hist(df_items['UnitPrice'], bins=50, range=(\n",
    "    0, 50), color='blue', edgecolor='black')\n",
    "plt.title('Histogram of Unit Prices')\n",
    "plt.xlabel('Unit Price')\n",
    "plt.ylabel('Frequency')\n",
    "plt.show()\n",
    "print(\"I picked the range (0, 50) for the x-axis because it captures the majority of the unit prices. \\nThe histogram shows that the majority of the unit prices are between 0 and 20, with a few unit prices between 20 and 50. \\nThe histogram is right-skewed, with the majority of the unit prices being on the lower end.\")"
   ]
  },
  {
   "cell_type": "markdown",
   "metadata": {},
   "source": [
    "I picked the range (0, 50) for the x-axis because it captures the majority of the unit prices. \n",
    "The histogram shows that the majority of the unit prices are between 0 and 20, with a few unit prices between 20 and 50. \n",
    "The histogram is right-skewed, with the majority of the unit prices being on the lower end."
   ]
  },
  {
   "cell_type": "markdown",
   "metadata": {},
   "source": [
    "### <span style=\"color:magenta\"> Q4. [25 points] Order Trends </span>\n",
    "1. What are the top 10 most ordered items? Describe them. Do you see any trends?\n",
    "1. What are the top 5 invoices that generated the most revenue? (Revenue is calculated by \"marking up\" the unit price by 25%.)\n",
    "1. Do the top 5 invoices contain any of the top 10 most ordered items?\n",
    "\n",
    "_Hint: When calculating the revenue we suggest adding a new column on the dataframe._"
   ]
  },
  {
   "cell_type": "code",
   "execution_count": 339,
   "metadata": {},
   "outputs": [
    {
     "name": "stdout",
     "output_type": "stream",
     "text": [
      "\n",
      "Top 10 most ordered items with description:\n",
      "   InvoiceNo StockCode  Quantity                          Description\n",
      "0    581483     23843   80995.0          PAPER CRAFT , LITTLE BIRDIE\n",
      "1    541431     23166   74215.0       MEDIUM CERAMIC TOP STORAGE JAR\n",
      "2    578841     84826   12540.0       ASSTD DESIGN 3D PAPER STICKERS\n",
      "3    542504     37413    5568.0                                 None\n",
      "4    573008     84077    4800.0    WORLD WAR 2 GLIDERS ASSTD DESIGNS\n",
      "5    554868     22197    4300.0                 SMALL POPCORN HOLDER\n",
      "6    544612     22053    3906.0                EMPIRE DESIGN ROSETTE\n",
      "7    560599     18007    3186.0  ESSENTIAL BALM 3.5g TIN IN ENVELOPE\n",
      "8    540815     21108    3114.0   FAIRY CAKE FLANNEL ASSORTED COLOUR\n",
      "9    550461     21108    3114.0   FAIRY CAKE FLANNEL ASSORTED COLOUR\n",
      "\n",
      "Top 5 invoices generating the most revenue with a 25% markup:\n",
      "   InvoiceNo  TotalRevenue\n",
      "0    581483      210587.0\n",
      "1    541431       96479.5\n",
      "2    556255       34323.8\n",
      "3    556917       33145.4\n",
      "4    563614       32167.2\n",
      "\n",
      "Top 5 invoices that contain any of the top 10 ordered items:\n",
      "   InvoiceNo  TotalRevenue\n",
      "0    581483      210587.0\n",
      "1    541431       96479.5\n"
     ]
    }
   ],
   "source": [
    "# Merge all three datasets together\n",
    "items_purchases = df_items.merge(df_purchases.assign(StockCodeSC=df_purchases['StockCodeSC'].str.extract('(\\d+)')),\n",
    "                                 left_on='StockCode', right_on='StockCodeSC', how='outer')  # Code generated by ChatGPT\n",
    "items_purchases_invoices = items_purchases.merge(\n",
    "    df_invoices, on='InvoiceNo')  # merge items_purchases and invoices\n",
    "# Drop rows with null values\n",
    "# items_purchases_invoices = items_purchases_invoices.dropna()\n",
    "\n",
    "# 1. What are the top 10 most ordered items? Describe them. Do you see any trends?\n",
    "# Calculate total quantity for each stock code\n",
    "total_ordered_per_item = items_purchases_invoices.groupby(\n",
    "    ['InvoiceNo', 'StockCode'])['Quantity'].sum()\n",
    "# Get the top 10 most ordered items\n",
    "top_10_ordered_items = total_ordered_per_item.sort_values(\n",
    "    ascending=False).head(10).reset_index()\n",
    "# Merge with items to get the description\n",
    "top_10_ordered_items_with_desc = top_10_ordered_items.merge(\n",
    "    df_items[['StockCode', 'Description']], on='StockCode')\n",
    "# Display the result\n",
    "print(\"\\nTop 10 most ordered items with description:\\n\",\n",
    "      top_10_ordered_items_with_desc[['InvoiceNo', 'StockCode', 'Quantity', 'Description']])\n",
    "\n",
    "\n",
    "# 2. What are the top 5 invoices that generated the most revenue?\n",
    "# Calculate the total revenue for each invoice with a 25% markup\n",
    "items_purchases_invoices['TotalRevenue'] = (\n",
    "    items_purchases_invoices['Quantity'] * items_purchases_invoices['UnitPrice']) * 1.25\n",
    "total_revenue_per_invoice = items_purchases_invoices.groupby('InvoiceNo')[\n",
    "    'TotalRevenue'].sum()\n",
    "# Get the top 5 invoices generating the most revenue\n",
    "top_5_revenue_invoices = total_revenue_per_invoice.sort_values(\n",
    "    ascending=False).head(5).reset_index()\n",
    "# Round the TotalRevenue column to 2 decimal points\n",
    "top_5_revenue_invoices['TotalRevenue'] = top_5_revenue_invoices['TotalRevenue'].round(\n",
    "    1)\n",
    "# Display the result\n",
    "print(\"\\nTop 5 invoices generating the most revenue with a 25% markup:\\n\",\n",
    "      top_5_revenue_invoices)\n",
    "\n",
    "\n",
    "# 3. Do the top 5 invoices contain any of the top 10 most ordered items?\n",
    "# Get the set of StockCodes for the top 10 most ordered items\n",
    "top_10_stockcodes = set(top_10_ordered_items_with_desc['StockCode'])\n",
    "# Check if any of the top 5 revenue invoices contain the top 10 ordered items\n",
    "top_5_revenue_with_ordered_items = top_5_revenue_invoices[top_5_revenue_invoices['InvoiceNo'].isin(\n",
    "    top_10_ordered_items['InvoiceNo'])]  # Code generated by ChatGPT\n",
    "# Display the result\n",
    "print(\"\\nTop 5 invoices that contain any of the top 10 ordered items:\\n\",\n",
    "      top_5_revenue_with_ordered_items)"
   ]
  },
  {
   "cell_type": "markdown",
   "metadata": {},
   "source": [
    "Top 10 most ordered items with description:\n",
    "| InvoiceNo | StockCode | Quantity | Description                             |\n",
    "|-----------|-----------|----------|-----------------------------------------|\n",
    "| 581483    | 23843     | 80995    | PAPER CRAFT, LITTLE BIRDIE              |\n",
    "| 541431    | 23166     | 74215    | MEDIUM CERAMIC TOP STORAGE JAR         |\n",
    "| 578841    | 84826     | 12540    | ASSTD DESIGN 3D PAPER STICKERS         |\n",
    "| 542504    | 37413     | 5568.0    | None         |\n",
    "| 573008    | 84077     | 4800     | WORLD WAR 2 GLIDERS ASSTD DESIGNS      |\n",
    "| 554868    | 22197     | 4300     | SMALL POPCORN HOLDER                   |\n",
    "| 544612    | 22053     | 3906     | EMPIRE DESIGN ROSETTE                  |\n",
    "| 560599    | 18007     | 3186     | ESSENTIAL BALM 3.5g TIN IN ENVELOPE    |\n",
    "| 540815    | 21108     | 3114     | FAIRY CAKE FLANNEL ASSORTED COLOUR     |\n",
    "| 550461    | 21108     | 3114     | FAIRY CAKE FLANNEL ASSORTED COLOUR     |\n",
    "\n",
    "Looking at the top 10 most ordered items, I can see that all the items listed seem to belong to either stationery or storage products. There is an item named **FAIRY CAKE FLANNEL ASSORTED COLOUR** that has been repeated in the dataset, and they both seem to share the same StockCode number and are ordered the same exact number of times albeit with different invoice numbers. I can also see that the most ordered item, **PAPER CRAFT, LITTLE BIRDIE**, has been ordered at a lot higher rate than other items, especially compared with the items ranking from 4th most ordered.\n",
    "\n",
    "\n",
    "Top 5 invoices generating the most revenue:\n",
    "| InvoiceNo | TotalRevenue |\n",
    "|-----------|--------------|\n",
    "| 581483    | 210587.0  |\n",
    "| 541431    | 96479.5  |\n",
    "| 556255    | 34323.8   |\n",
    "| 556917    | 33145.4    |\n",
    "| 563614    | 32167.2    |\n",
    "\n",
    "\n",
    "Top 5 invoices that contain any of the top 10 ordered items:\n",
    "| InvoiceNo | TotalRevenue |\n",
    "|-----------|--------------|\n",
    "| 581483    | 210587.0     |\n",
    "| 541431    | 96479.5     |\n",
    "\n",
    "The top 5 invoices consist of two items that can also be seen in the top 10 most ordered items:\n",
    "1. **PAPER CRAFT, LITTLE BIRDIE**\n",
    "2. **MEDIUM CERAMIC TOP STORAGE JAR**\n"
   ]
  },
  {
   "cell_type": "markdown",
   "metadata": {},
   "source": [
    "### <span style=\"color:magenta\"> Q5. [30 points] Customer Analysis </span>\n",
    "1. Classify customers into segments based on the total revenue they have generated for the company.\n",
    " * low value: less than \\$1750  \n",
    " * medium value: between 1750 and 8250 dollars\n",
    " * high value: greater than \\$8250\n",
    "2. How many customers are in each segment? \n",
    "3. Using the pivot table function, create a table that displays the average order quantity of each stock code for a given segment.\n",
    "4. Are the items with the highest average order quantity generally the same across segments? Explain your reasoning. \n",
    "5. Choose three items and discuss any trends/differences you notice across the three segments.\n",
    "\n",
    "_Hint: When calculating the segment, we suggest constructing a new dataframe as an intermediary step with the columns: CustomerID, Revenue, Segment._"
   ]
  },
  {
   "cell_type": "code",
   "execution_count": 359,
   "metadata": {},
   "outputs": [
    {
     "name": "stdout",
     "output_type": "stream",
     "text": [
      "\n",
      "Number of customers in each segment:\n",
      " Low value: 2986 \n",
      " Medium value: 1149 \n",
      " High value: 204\n",
      "\n",
      "Pivot table displaying the average order quantity of each stock code for a given segment:\n",
      " RevenueSegment        Low     Medium   High\n",
      "StockCode                                  \n",
      "10133            5.833333   2.000000   2.00\n",
      "20712           20.800000  16.000000   1.50\n",
      "20726            4.000000   1.500000   1.00\n",
      "21033           12.750000   9.000000  37.00\n",
      "21035            5.600000   2.500000   1.00\n",
      "...                   ...        ...    ...\n",
      "23344            1.000000  10.000000   1.00\n",
      "47566            5.307692  16.375000   3.00\n",
      "71053            6.681818   5.263158   8.25\n",
      "84637            2.000000   1.000000   1.00\n",
      "84991            2.250000  24.000000   1.00\n",
      "\n",
      "[70 rows x 3 columns]\n",
      "False\n",
      "\n",
      "\n",
      "No, the items with the highest average order quantity do not generally seem to be same across segments.\n",
      "For example, StockCodes 21033 and 47566 have very different values across all three segments. \n",
      "This suggests that the items with the highest average order quantity are not consistent across segments.\n",
      "\n",
      "Average order quantity of the selected items across segments:\n",
      " RevenueSegment       Low  Medium  High\n",
      "StockCode                             \n",
      "22424           1.555556     1.5   2.5\n",
      "21843           1.750000     1.0   2.5\n",
      "22952           2.333333     1.0   1.0\n",
      "There is a consistent pattern where the average order quantity tends to decrease as we move from the Low to the Medium and High segments.\n",
      "This could imply that certain items may have broader appeal among customers with lower spending levels, while their popularity diminishes among customers with higher spending capacity.\n"
     ]
    }
   ],
   "source": [
    "# 1. Classify customers into segments based on the total revenue they have generated for the company.\n",
    "#  * low value: less than \\$1750\n",
    "#  * medium value: between 1750 and 8250 dollars\n",
    "#  * high value: greater than \\$8250\n",
    "\n",
    "revenue_segments = items_purchases_invoices.groupby('CustomerID')[\n",
    "    'TotalRevenue'].sum()\n",
    "\n",
    "# Classify customers into segments based on the total revenue they have generated for the company\n",
    "low_value_customers = revenue_segments[revenue_segments < 1750]\n",
    "medium_value_customers = revenue_segments[(revenue_segments >= 1750) & (\n",
    "    revenue_segments <= 8250)]\n",
    "high_value_customers = revenue_segments[revenue_segments > 8250]\n",
    "items_purchases_invoices['RevenueSegment'] = pd.cut(\n",
    "    revenue_segments, bins=[0, 1750, 8250, revenue_segments.max()], labels=['Low', 'Medium', 'High'])\n",
    "\n",
    "# 2. How many customers are in each segment?\n",
    "print(\"\\nNumber of customers in each segment:\\n\",\n",
    "      \"Low value:\", low_value_customers.count(), \"\\n\",\n",
    "      \"Medium value:\", medium_value_customers.count(), \"\\n\",\n",
    "      \"High value:\", high_value_customers.count())\n",
    "\n",
    "# 3. Using the pivot table function, create a table that displays the average order quantity of each stock code for a given segment.\n",
    "pivot_table = pd.pivot_table(items_purchases_invoices, index='StockCode',\n",
    "                             columns='RevenueSegment', values='Quantity', aggfunc='mean').dropna()\n",
    "print(\"\\nPivot table displaying the average order quantity of each stock code for a given segment:\\n\", pivot_table)\n",
    "\n",
    "# 4. Are the items with the highest average order quantity generally the same across segments? Explain your reasoning.\n",
    "# Code generated by ChatGPT\n",
    "# Identify StockCodes with the highest average order quantity in each segment\n",
    "highest_avg_qty_low = pivot_table['Low'].idxmax()\n",
    "highest_avg_qty_medium = pivot_table['Medium'].idxmax()\n",
    "highest_avg_qty_high = pivot_table['High'].idxmax()\n",
    "# Compare StockCodes across segments\n",
    "are_highest_avg_qty_same_across_segments = (\n",
    "    highest_avg_qty_low == highest_avg_qty_medium == highest_avg_qty_high\n",
    ")\n",
    "print(are_highest_avg_qty_same_across_segments)\n",
    "print(\"\\n\\nNo, the items with the highest average order quantity do not generally seem to be same across segments.\\nFor example, StockCodes 21033 and 47566 have very different values across all three segments. \\nThis suggests that the items with the highest average order quantity are not consistent across segments.\")\n",
    "\n",
    "# 5. Choose three items and discuss any trends/differences you notice across the three segments.\n",
    "# Select three items\n",
    "selected_items = pivot_table.sample(3).index\n",
    "# Display the average order quantity of the selected items across segments\n",
    "print(\"\\nAverage order quantity of the selected items across segments:\\n\",\n",
    "      pivot_table.loc[selected_items])\n",
    "print(\"There is a consistent pattern where the average order quantity tends to decrease as we move from the Low to the Medium and High segments.\\nThis could imply that certain items may have broader appeal among customers with lower spending levels, while their popularity diminishes among customers with higher spending capacity.\")"
   ]
  },
  {
   "cell_type": "markdown",
   "metadata": {},
   "source": [
    "Number of customers in each segment:\n",
    " Low value: 2986 \n",
    " Medium value: 1149 \n",
    " High value: 204\n",
    "\n",
    "| StockCode | Low Segment | Medium Segment | High Segment |\n",
    "|-----------|-------------|-----------------|--------------|\n",
    "| 84637     | 2.0         | 1.0             | 1.0          |\n",
    "| 21035     | 5.6         | 2.5             | 1.0          |\n",
    "| 22167     | 3.0         | 1.0             | 1.0          |\n",
    "\n",
    "I notice a consistent pattern where in average, the order quantity tends to decrease as we move from the Low to the Medium and High segments.\n",
    "In my opinion, this could imply that certain items may have broader appeal among customers with lower spending levels, while their popularity diminishes among customers with higher spending capacity."
   ]
  },
  {
   "cell_type": "markdown",
   "metadata": {},
   "source": [
    "# Please submit your completed notebook in .IPYNB and .HTML formats via Canvas"
   ]
  },
  {
   "cell_type": "code",
   "execution_count": null,
   "metadata": {},
   "outputs": [],
   "source": []
  }
 ],
 "metadata": {
  "kernelspec": {
   "display_name": "Python 3 (ipykernel)",
   "language": "python",
   "name": "python3"
  },
  "language_info": {
   "codemirror_mode": {
    "name": "ipython",
    "version": 3
   },
   "file_extension": ".py",
   "mimetype": "text/x-python",
   "name": "python",
   "nbconvert_exporter": "python",
   "pygments_lexer": "ipython3",
   "version": "3.11.5"
  }
 },
 "nbformat": 4,
 "nbformat_minor": 4
}
